{
 "cells": [
  {
   "cell_type": "code",
   "execution_count": 1,
   "id": "0bb1490e",
   "metadata": {},
   "outputs": [],
   "source": [
    "    #Load Libraries\n",
    "    \n",
    "    import numpy as np\n",
    "    import pandas as pd\n",
    "    import seaborn as sns\n",
    "    import matplotlib.pyplot as plt\n",
    "    import os\n",
    "    from sklearn.feature_extraction.text import TfidfVectorizer"
   ]
  },
  {
   "cell_type": "code",
   "execution_count": 2,
   "id": "11ad5342",
   "metadata": {},
   "outputs": [
    {
     "data": {
      "text/html": [
       "<div>\n",
       "<style scoped>\n",
       "    .dataframe tbody tr th:only-of-type {\n",
       "        vertical-align: middle;\n",
       "    }\n",
       "\n",
       "    .dataframe tbody tr th {\n",
       "        vertical-align: top;\n",
       "    }\n",
       "\n",
       "    .dataframe thead th {\n",
       "        text-align: right;\n",
       "    }\n",
       "</style>\n",
       "<table border=\"1\" class=\"dataframe\">\n",
       "  <thead>\n",
       "    <tr style=\"text-align: right;\">\n",
       "      <th></th>\n",
       "      <th>text</th>\n",
       "      <th>target</th>\n",
       "    </tr>\n",
       "  </thead>\n",
       "  <tbody>\n",
       "    <tr>\n",
       "      <th>0</th>\n",
       "      <td>From ilug-admin@linux.ie Mon Jul 29 11:28:02 2...</td>\n",
       "      <td>0</td>\n",
       "    </tr>\n",
       "    <tr>\n",
       "      <th>1</th>\n",
       "      <td>From gort44@excite.com Mon Jun 24 17:54:21 200...</td>\n",
       "      <td>1</td>\n",
       "    </tr>\n",
       "    <tr>\n",
       "      <th>2</th>\n",
       "      <td>From fork-admin@xent.com Mon Jul 29 11:39:57 2...</td>\n",
       "      <td>1</td>\n",
       "    </tr>\n",
       "    <tr>\n",
       "      <th>3</th>\n",
       "      <td>From dcm123@btamail.net.cn Mon Jun 24 17:49:23...</td>\n",
       "      <td>1</td>\n",
       "    </tr>\n",
       "    <tr>\n",
       "      <th>4</th>\n",
       "      <td>From ilug-admin@linux.ie Mon Aug 19 11:02:47 2...</td>\n",
       "      <td>0</td>\n",
       "    </tr>\n",
       "  </tbody>\n",
       "</table>\n",
       "</div>"
      ],
      "text/plain": [
       "                                                text  target\n",
       "0  From ilug-admin@linux.ie Mon Jul 29 11:28:02 2...       0\n",
       "1  From gort44@excite.com Mon Jun 24 17:54:21 200...       1\n",
       "2  From fork-admin@xent.com Mon Jul 29 11:39:57 2...       1\n",
       "3  From dcm123@btamail.net.cn Mon Jun 24 17:49:23...       1\n",
       "4  From ilug-admin@linux.ie Mon Aug 19 11:02:47 2...       0"
      ]
     },
     "execution_count": 2,
     "metadata": {},
     "output_type": "execute_result"
    }
   ],
   "source": [
    "#Load Dataset\n",
    "dataset = pd.read_csv(\"C:/Users/saiva/OneDrive/Documents/spam_assassin.csv\")\n",
    "dataset.head()"
   ]
  },
  {
   "cell_type": "code",
   "execution_count": 3,
   "id": "6269a790",
   "metadata": {},
   "outputs": [
    {
     "data": {
      "text/plain": [
       "(5796,)"
      ]
     },
     "execution_count": 3,
     "metadata": {},
     "output_type": "execute_result"
    }
   ],
   "source": [
    "#Split data into text and target\n",
    "data, target = dataset.text, dataset.target\n",
    "data.shape"
   ]
  },
  {
   "cell_type": "code",
   "execution_count": 4,
   "id": "93f9c6e2",
   "metadata": {},
   "outputs": [
    {
     "data": {
      "text/plain": [
       "0    From ilug-admin@linux.ie Mon Jul 29 11:28:02 2...\n",
       "1    From gort44@excite.com Mon Jun 24 17:54:21 200...\n",
       "2    From fork-admin@xent.com Mon Jul 29 11:39:57 2...\n",
       "3    From dcm123@btamail.net.cn Mon Jun 24 17:49:23...\n",
       "4    From ilug-admin@linux.ie Mon Aug 19 11:02:47 2...\n",
       "Name: text, dtype: object"
      ]
     },
     "execution_count": 4,
     "metadata": {},
     "output_type": "execute_result"
    }
   ],
   "source": [
    "data.head()"
   ]
  },
  {
   "cell_type": "code",
   "execution_count": 5,
   "id": "6ba52d57",
   "metadata": {},
   "outputs": [
    {
     "data": {
      "text/plain": [
       "(5796,)"
      ]
     },
     "execution_count": 5,
     "metadata": {},
     "output_type": "execute_result"
    }
   ],
   "source": [
    "target.shape"
   ]
  },
  {
   "cell_type": "code",
   "execution_count": 6,
   "id": "a516d456",
   "metadata": {},
   "outputs": [],
   "source": [
    "#Creating train and test data\n",
    "from sklearn.model_selection import StratifiedShuffleSplit\n",
    "sss = StratifiedShuffleSplit(n_splits=1, test_size=0.25, random_state=0)\n",
    "\n",
    "for train_index, test_index in sss.split(data, target):\n",
    "    train_X, test_X = data.loc[train_index], data.loc[test_index]\n",
    "    train_y, test_y = target.loc[train_index], target.loc[test_index]\n",
    "    "
   ]
  },
  {
   "cell_type": "code",
   "execution_count": 7,
   "id": "b1df6ef1",
   "metadata": {},
   "outputs": [
    {
     "name": "stdout",
     "output_type": "stream",
     "text": [
      "1264    Return-Path: tim.one@comcast.net Delivery-Date...\n",
      "2540    From rssfeeds@jmason.org Thu Sep 26 16:41:31 2...\n",
      "3116    From rssfeeds@jmason.org Tue Sep 24 10:47:47 2...\n",
      "4812    From fork-admin@xent.com Wed Aug 28 18:17:25 2...\n",
      "4213    From ilug-admin@linux.ie Mon Aug 12 11:07:30 2...\n",
      "                              ...                        \n",
      "1882    From Market_Research@spcu.spb.su Mon Jun 24 17...\n",
      "1674    From ilug-admin@linux.ie Tue Aug 13 10:28:08 2...\n",
      "317     From rssfeeds@jmason.org Thu Sep 26 16:43:17 2...\n",
      "4874    From exmh-workers-admin@redhat.com Mon Jul 29 ...\n",
      "1536    From ormlh@imail.ru Sun Jul 15 04:56:31 2001 R...\n",
      "Name: text, Length: 4347, dtype: object 1264    0\n",
      "2540    0\n",
      "3116    0\n",
      "4812    0\n",
      "4213    0\n",
      "       ..\n",
      "1882    1\n",
      "1674    0\n",
      "317     0\n",
      "4874    0\n",
      "1536    1\n",
      "Name: target, Length: 4347, dtype: int64\n"
     ]
    }
   ],
   "source": [
    "print(train_X, train_y)"
   ]
  },
  {
   "cell_type": "code",
   "execution_count": 8,
   "id": "23c5e863",
   "metadata": {},
   "outputs": [],
   "source": [
    "from sklearn.model_selection import cross_val_score, cross_val_predict"
   ]
  },
  {
   "cell_type": "code",
   "execution_count": 9,
   "id": "7c85250e",
   "metadata": {},
   "outputs": [],
   "source": [
    "from sklearn.tree import DecisionTreeClassifier\n",
    "vect = TfidfVectorizer(min_df=5, ngram_range=(1,3)).fit(train_X)\n",
    "X_train_vectorized = vect.transform(train_X)\n"
   ]
  },
  {
   "cell_type": "code",
   "execution_count": 10,
   "id": "e6b5a9fa",
   "metadata": {},
   "outputs": [],
   "source": [
    "def add_feature(X, feature_to_add):\n",
    "    \n",
    "    from scipy.sparse import csr_matrix, hstack\n",
    "    return hstack([X, csr_matrix(feature_to_add).T], 'csr')\n",
    " \n",
    " \n",
    "\n",
    "add_length=train_X.str.len()\n",
    "add_digits=train_X.str.count(r'\\d')\n",
    "add_dollars=train_X.str.count(r'\\$')\n",
    "add_characters=train_X.str.count(r'\\W')\n",
    " \n",
    "X_train_transformed = add_feature(X_train_vectorized , [add_length, add_digits,  add_dollars, add_characters])\n",
    " \n",
    "\n",
    "add_length_t=test_X.str.len()\n",
    "add_digits_t=test_X.str.count(r'\\d')\n",
    "add_dollars_t=test_X.str.count(r'\\$')\n",
    "add_characters_t=test_X.str.count(r'\\W')\n",
    " \n",
    " \n",
    "X_test_transformed = add_feature(vect.transform(test_X), [add_length_t, add_digits_t,  add_dollars_t, add_characters_t])"
   ]
  },
  {
   "cell_type": "code",
   "execution_count": 11,
   "id": "289bd1b2",
   "metadata": {},
   "outputs": [
    {
     "name": "stdout",
     "output_type": "stream",
     "text": [
      "  (0, 870)\t0.028472240414707813\n",
      "  (0, 1013)\t0.09743201706859243\n",
      "  (0, 1055)\t0.031172424101657926\n",
      "  (0, 1096)\t0.01714216969640707\n",
      "  (0, 1100)\t0.017154239554711882\n",
      "  (0, 1131)\t0.01887263090373362\n",
      "  (0, 1133)\t0.01908788965536923\n",
      "  (0, 1810)\t0.014059081335246677\n",
      "  (0, 1933)\t0.037340650355548635\n",
      "  (0, 1934)\t0.037340650355548635\n",
      "  (0, 1991)\t0.08545477138358928\n",
      "  (0, 2006)\t0.0281356574930967\n",
      "  (0, 2126)\t0.0654847153264489\n",
      "  (0, 2127)\t0.0654847153264489\n",
      "  (0, 2380)\t0.05334692117524734\n",
      "  (0, 2839)\t0.010100647296315475\n",
      "  (0, 2999)\t0.034962495734484726\n",
      "  (0, 3497)\t0.03730311774591902\n",
      "  (0, 3540)\t0.00781475353829268\n",
      "  (0, 3545)\t0.007836467556691241\n",
      "  (0, 3610)\t0.08356719633956208\n",
      "  (0, 3614)\t0.03656072050244462\n",
      "  (0, 3676)\t0.00783284391783741\n",
      "  (0, 3677)\t0.008289237729013956\n",
      "  (0, 4013)\t0.01994644302695112\n",
      "  :\t:\n",
      "  (1448, 106046)\t0.011451375479532027\n",
      "  (1448, 106101)\t0.003471805956621508\n",
      "  (1448, 106102)\t0.003471805956621508\n",
      "  (1448, 106330)\t0.007767956462480521\n",
      "  (1448, 106580)\t0.014724446420958518\n",
      "  (1448, 106888)\t0.027003488092484453\n",
      "  (1448, 106948)\t0.02044528752643042\n",
      "  (1448, 106977)\t0.019753885588511003\n",
      "  (1448, 107096)\t0.01328406613901182\n",
      "  (1448, 107164)\t0.017422847984844708\n",
      "  (1448, 107165)\t0.019464023740131228\n",
      "  (1448, 107194)\t0.004218136487583442\n",
      "  (1448, 107257)\t0.010162423804435407\n",
      "  (1448, 107258)\t0.010162423804435407\n",
      "  (1448, 107807)\t0.014981749983658742\n",
      "  (1448, 107862)\t0.008034984260909029\n",
      "  (1448, 108100)\t0.01080217821920882\n",
      "  (1448, 108107)\t0.02007792356621052\n",
      "  (1448, 108557)\t0.015091810381178418\n",
      "  (1448, 109387)\t0.0035199127885718385\n",
      "  (1448, 109393)\t0.0037638612617894793\n",
      "  (1448, 109396)\t0.005423514968568347\n",
      "  (1448, 109578)\t5980.0\n",
      "  (1448, 109579)\t435.0\n",
      "  (1448, 109581)\t1629.0\n"
     ]
    }
   ],
   "source": [
    "print(X_test_transformed)"
   ]
  },
  {
   "cell_type": "code",
   "execution_count": 12,
   "id": "8e11ff8a",
   "metadata": {},
   "outputs": [],
   "source": [
    "from sklearn.ensemble import RandomForestClassifier\n"
   ]
  },
  {
   "cell_type": "code",
   "execution_count": 13,
   "id": "e7af6b6b",
   "metadata": {},
   "outputs": [],
   "source": [
    "forest_clf = RandomForestClassifier(random_state = 42)\n",
    "y_probas_forest = cross_val_predict(forest_clf , X_train_transformed , train_y , cv = 3 , method = 'predict_proba')"
   ]
  },
  {
   "cell_type": "code",
   "execution_count": 15,
   "id": "53449217",
   "metadata": {},
   "outputs": [
    {
     "data": {
      "text/plain": [
       "RandomizedSearchCV(cv=5, estimator=RandomForestClassifier(),\n",
       "                   param_distributions=[{'max_features': [2, 4, 6, 8],\n",
       "                                         'n_estimators': [3, 10, 30]},\n",
       "                                        {'bootstrap': [False],\n",
       "                                         'max_features': [2, 3, 4],\n",
       "                                         'n_estimators': [3, 10]}],\n",
       "                   return_train_score=True, scoring='neg_mean_squared_error')"
      ]
     },
     "execution_count": 15,
     "metadata": {},
     "output_type": "execute_result"
    }
   ],
   "source": [
    "from sklearn.model_selection import RandomizedSearchCV\n",
    "\n",
    "param_grid = [\n",
    "    {'n_estimators' : [3, 10, 30], 'max_features' : [2, 4, 6, 8]},\n",
    "    {'bootstrap' : [False], 'n_estimators' : [3, 10], 'max_features' : [2, 3, 4]},\n",
    "    \n",
    "]\n",
    "\n",
    "forest_reg = RandomForestClassifier()\n",
    "\n",
    "random_search = RandomizedSearchCV(forest_reg, param_grid, cv = 5,\n",
    "                          scoring = 'neg_mean_squared_error',\n",
    "                          return_train_score = True)\n",
    "\n",
    "random_search.fit(X_train_transformed , train_y)"
   ]
  },
  {
   "cell_type": "code",
   "execution_count": 16,
   "id": "17c692a9",
   "metadata": {},
   "outputs": [
    {
     "data": {
      "text/plain": [
       "{'n_estimators': 30, 'max_features': 8}"
      ]
     },
     "execution_count": 16,
     "metadata": {},
     "output_type": "execute_result"
    }
   ],
   "source": [
    "random_search.best_params_\n"
   ]
  },
  {
   "cell_type": "code",
   "execution_count": 17,
   "id": "89be16bd",
   "metadata": {},
   "outputs": [
    {
     "data": {
      "text/plain": [
       "RandomForestClassifier(max_features=8, n_estimators=30)"
      ]
     },
     "execution_count": 17,
     "metadata": {},
     "output_type": "execute_result"
    }
   ],
   "source": [
    "random_search.best_estimator_\n"
   ]
  },
  {
   "cell_type": "code",
   "execution_count": 19,
   "id": "baa67082",
   "metadata": {},
   "outputs": [
    {
     "data": {
      "text/plain": [
       "RandomForestClassifier(max_features=8, n_estimators=30)"
      ]
     },
     "execution_count": 19,
     "metadata": {},
     "output_type": "execute_result"
    }
   ],
   "source": [
    "final_model = random_search.best_estimator_\n",
    "final_model.fit(X_train_transformed, train_y)\n"
   ]
  },
  {
   "cell_type": "code",
   "execution_count": 21,
   "id": "e047ec80",
   "metadata": {},
   "outputs": [],
   "source": [
    "predictions = final_model.predict(X_test_transformed)\n"
   ]
  },
  {
   "cell_type": "code",
   "execution_count": 22,
   "id": "27873260",
   "metadata": {},
   "outputs": [
    {
     "data": {
      "text/plain": [
       "0.9868875086266391"
      ]
     },
     "execution_count": 22,
     "metadata": {},
     "output_type": "execute_result"
    }
   ],
   "source": [
    "\n",
    "from sklearn.metrics import accuracy_score\n",
    "accuracy_score(predictions, test_y)\n"
   ]
  }
 ],
 "metadata": {
  "kernelspec": {
   "display_name": "Python 3 (ipykernel)",
   "language": "python",
   "name": "python3"
  },
  "language_info": {
   "codemirror_mode": {
    "name": "ipython",
    "version": 3
   },
   "file_extension": ".py",
   "mimetype": "text/x-python",
   "name": "python",
   "nbconvert_exporter": "python",
   "pygments_lexer": "ipython3",
   "version": "3.9.12"
  }
 },
 "nbformat": 4,
 "nbformat_minor": 5
}
